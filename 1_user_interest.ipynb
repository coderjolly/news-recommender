{
 "cells": [
  {
   "cell_type": "code",
   "execution_count": 29,
   "metadata": {},
   "outputs": [],
   "source": [
    "import numpy as np\n",
    "import pandas as pd\n",
    "import random\n",
    "import scipy\n",
    "\n",
    "from scipy import stats"
   ]
  },
  {
   "cell_type": "code",
   "execution_count": 30,
   "metadata": {},
   "outputs": [
    {
     "name": "stdout",
     "output_type": "stream",
     "text": [
      "(2250, 6)\n"
     ]
    },
    {
     "data": {
      "text/html": [
       "<div>\n",
       "<style scoped>\n",
       "    .dataframe tbody tr th:only-of-type {\n",
       "        vertical-align: middle;\n",
       "    }\n",
       "\n",
       "    .dataframe tbody tr th {\n",
       "        vertical-align: top;\n",
       "    }\n",
       "\n",
       "    .dataframe thead th {\n",
       "        text-align: right;\n",
       "    }\n",
       "</style>\n",
       "<table border=\"1\" class=\"dataframe\">\n",
       "  <thead>\n",
       "    <tr style=\"text-align: right;\">\n",
       "      <th></th>\n",
       "      <th>Article_id</th>\n",
       "      <th>Title</th>\n",
       "      <th>Description</th>\n",
       "      <th>Date</th>\n",
       "      <th>Category</th>\n",
       "      <th>URL</th>\n",
       "    </tr>\n",
       "  </thead>\n",
       "  <tbody>\n",
       "    <tr>\n",
       "      <th>0</th>\n",
       "      <td>0</td>\n",
       "      <td>Fire at Vaishno Devi shrine complex; cash coun...</td>\n",
       "      <td>No one was injured in the fire, which broke ou...</td>\n",
       "      <td>June 8, 2021 7:28:32 pm</td>\n",
       "      <td>India</td>\n",
       "      <td>https://indianexpress.com/article/india/vaishn...</td>\n",
       "    </tr>\n",
       "    <tr>\n",
       "      <th>1</th>\n",
       "      <td>1</td>\n",
       "      <td>Had not gone to meet Nawaz Sharif, says Uddhav...</td>\n",
       "      <td>Uddhav Thackeray led a delegation of his cabin...</td>\n",
       "      <td>June 8, 2021 6:56:40 pm</td>\n",
       "      <td>India</td>\n",
       "      <td>https://indianexpress.com/article/india/had-no...</td>\n",
       "    </tr>\n",
       "    <tr>\n",
       "      <th>2</th>\n",
       "      <td>2</td>\n",
       "      <td>Corruption case: Former Haryana I-T deputy com...</td>\n",
       "      <td>It was in 2016 that the CBI had arrested Nitin...</td>\n",
       "      <td>June 8, 2021  6:25:24 pm</td>\n",
       "      <td>India</td>\n",
       "      <td>https://indianexpress.com/article/india/corrup...</td>\n",
       "    </tr>\n",
       "    <tr>\n",
       "      <th>3</th>\n",
       "      <td>3</td>\n",
       "      <td>Kannur MP K Sudhakaran appointed chief of Cong...</td>\n",
       "      <td>Sudhakaran will replace Ramachandran who had a...</td>\n",
       "      <td>June 8, 2021  5:04:40 pm</td>\n",
       "      <td>India</td>\n",
       "      <td>https://indianexpress.com/article/india/sudhak...</td>\n",
       "    </tr>\n",
       "    <tr>\n",
       "      <th>4</th>\n",
       "      <td>4</td>\n",
       "      <td>Kerala girl of Class 5 writes to CJI, lauds SC...</td>\n",
       "      <td>Chief Justice N V Ramana responded to the Clas...</td>\n",
       "      <td>June 8, 2021  4:43:10 pm</td>\n",
       "      <td>India</td>\n",
       "      <td>https://indianexpress.com/article/india/kerala...</td>\n",
       "    </tr>\n",
       "  </tbody>\n",
       "</table>\n",
       "</div>"
      ],
      "text/plain": [
       "   Article_id                                              Title  \\\n",
       "0           0  Fire at Vaishno Devi shrine complex; cash coun...   \n",
       "1           1  Had not gone to meet Nawaz Sharif, says Uddhav...   \n",
       "2           2  Corruption case: Former Haryana I-T deputy com...   \n",
       "3           3  Kannur MP K Sudhakaran appointed chief of Cong...   \n",
       "4           4  Kerala girl of Class 5 writes to CJI, lauds SC...   \n",
       "\n",
       "                                         Description  \\\n",
       "0  No one was injured in the fire, which broke ou...   \n",
       "1  Uddhav Thackeray led a delegation of his cabin...   \n",
       "2  It was in 2016 that the CBI had arrested Nitin...   \n",
       "3  Sudhakaran will replace Ramachandran who had a...   \n",
       "4  Chief Justice N V Ramana responded to the Clas...   \n",
       "\n",
       "                       Date Category  \\\n",
       "0   June 8, 2021 7:28:32 pm    India   \n",
       "1   June 8, 2021 6:56:40 pm    India   \n",
       "2  June 8, 2021  6:25:24 pm    India   \n",
       "3  June 8, 2021  5:04:40 pm    India   \n",
       "4  June 8, 2021  4:43:10 pm    India   \n",
       "\n",
       "                                                 URL  \n",
       "0  https://indianexpress.com/article/india/vaishn...  \n",
       "1  https://indianexpress.com/article/india/had-no...  \n",
       "2  https://indianexpress.com/article/india/corrup...  \n",
       "3  https://indianexpress.com/article/india/sudhak...  \n",
       "4  https://indianexpress.com/article/india/kerala...  "
      ]
     },
     "execution_count": 30,
     "metadata": {},
     "output_type": "execute_result"
    }
   ],
   "source": [
    "data = pd.read_csv(r'/Users/harman/Desktop/EDA_NLP/Recommendation System/0_news_articles.csv')\n",
    "print(data.shape)\n",
    "data.head()"
   ]
  },
  {
   "cell_type": "code",
   "execution_count": 31,
   "metadata": {},
   "outputs": [
    {
     "data": {
      "text/html": [
       "<div>\n",
       "<style scoped>\n",
       "    .dataframe tbody tr th:only-of-type {\n",
       "        vertical-align: middle;\n",
       "    }\n",
       "\n",
       "    .dataframe tbody tr th {\n",
       "        vertical-align: top;\n",
       "    }\n",
       "\n",
       "    .dataframe thead th {\n",
       "        text-align: right;\n",
       "    }\n",
       "</style>\n",
       "<table border=\"1\" class=\"dataframe\">\n",
       "  <thead>\n",
       "    <tr style=\"text-align: right;\">\n",
       "      <th></th>\n",
       "      <th>Article_id</th>\n",
       "      <th>Title</th>\n",
       "      <th>Description</th>\n",
       "      <th>Date</th>\n",
       "      <th>URL</th>\n",
       "    </tr>\n",
       "  </thead>\n",
       "  <tbody>\n",
       "    <tr>\n",
       "      <th>0</th>\n",
       "      <td>0</td>\n",
       "      <td>Fire at Vaishno Devi shrine complex; cash coun...</td>\n",
       "      <td>No one was injured in the fire, which broke ou...</td>\n",
       "      <td>June 8, 2021 7:28:32 pm</td>\n",
       "      <td>https://indianexpress.com/article/india/vaishn...</td>\n",
       "    </tr>\n",
       "    <tr>\n",
       "      <th>1</th>\n",
       "      <td>1</td>\n",
       "      <td>Had not gone to meet Nawaz Sharif, says Uddhav...</td>\n",
       "      <td>Uddhav Thackeray led a delegation of his cabin...</td>\n",
       "      <td>June 8, 2021 6:56:40 pm</td>\n",
       "      <td>https://indianexpress.com/article/india/had-no...</td>\n",
       "    </tr>\n",
       "    <tr>\n",
       "      <th>2</th>\n",
       "      <td>2</td>\n",
       "      <td>Corruption case: Former Haryana I-T deputy com...</td>\n",
       "      <td>It was in 2016 that the CBI had arrested Nitin...</td>\n",
       "      <td>June 8, 2021  6:25:24 pm</td>\n",
       "      <td>https://indianexpress.com/article/india/corrup...</td>\n",
       "    </tr>\n",
       "    <tr>\n",
       "      <th>3</th>\n",
       "      <td>3</td>\n",
       "      <td>Kannur MP K Sudhakaran appointed chief of Cong...</td>\n",
       "      <td>Sudhakaran will replace Ramachandran who had a...</td>\n",
       "      <td>June 8, 2021  5:04:40 pm</td>\n",
       "      <td>https://indianexpress.com/article/india/sudhak...</td>\n",
       "    </tr>\n",
       "    <tr>\n",
       "      <th>4</th>\n",
       "      <td>4</td>\n",
       "      <td>Kerala girl of Class 5 writes to CJI, lauds SC...</td>\n",
       "      <td>Chief Justice N V Ramana responded to the Clas...</td>\n",
       "      <td>June 8, 2021  4:43:10 pm</td>\n",
       "      <td>https://indianexpress.com/article/india/kerala...</td>\n",
       "    </tr>\n",
       "  </tbody>\n",
       "</table>\n",
       "</div>"
      ],
      "text/plain": [
       "   Article_id                                              Title  \\\n",
       "0           0  Fire at Vaishno Devi shrine complex; cash coun...   \n",
       "1           1  Had not gone to meet Nawaz Sharif, says Uddhav...   \n",
       "2           2  Corruption case: Former Haryana I-T deputy com...   \n",
       "3           3  Kannur MP K Sudhakaran appointed chief of Cong...   \n",
       "4           4  Kerala girl of Class 5 writes to CJI, lauds SC...   \n",
       "\n",
       "                                         Description  \\\n",
       "0  No one was injured in the fire, which broke ou...   \n",
       "1  Uddhav Thackeray led a delegation of his cabin...   \n",
       "2  It was in 2016 that the CBI had arrested Nitin...   \n",
       "3  Sudhakaran will replace Ramachandran who had a...   \n",
       "4  Chief Justice N V Ramana responded to the Clas...   \n",
       "\n",
       "                       Date                                                URL  \n",
       "0   June 8, 2021 7:28:32 pm  https://indianexpress.com/article/india/vaishn...  \n",
       "1   June 8, 2021 6:56:40 pm  https://indianexpress.com/article/india/had-no...  \n",
       "2  June 8, 2021  6:25:24 pm  https://indianexpress.com/article/india/corrup...  \n",
       "3  June 8, 2021  5:04:40 pm  https://indianexpress.com/article/india/sudhak...  \n",
       "4  June 8, 2021  4:43:10 pm  https://indianexpress.com/article/india/kerala...  "
      ]
     },
     "execution_count": 31,
     "metadata": {},
     "output_type": "execute_result"
    }
   ],
   "source": [
    "total_length = 2250 # dataset has 2250 rows\n",
    "data = data.drop([\"Category\"], axis = 1)\n",
    "data.head()"
   ]
  },
  {
   "cell_type": "markdown",
   "metadata": {},
   "source": [
    "# UserID"
   ]
  },
  {
   "cell_type": "code",
   "execution_count": 32,
   "metadata": {},
   "outputs": [],
   "source": [
    "def generator():\n",
    "    session = stats.geom.rvs(size = 2250, p = 0.3) # dataset has 2250 rows\n",
    "    return session\n",
    "\n",
    "user_session = generator()"
   ]
  },
  {
   "cell_type": "code",
   "execution_count": 33,
   "metadata": {},
   "outputs": [
    {
     "data": {
      "text/plain": [
       "2250"
      ]
     },
     "execution_count": 33,
     "metadata": {},
     "output_type": "execute_result"
    }
   ],
   "source": [
    "user_id = []\n",
    "id = 1\n",
    "\n",
    "for u_id in range(total_length):\n",
    "    user_id.append(id)\n",
    "    if u_id > 10:\n",
    "        id += 1\n",
    "        \n",
    "user_id = np.array(user_id).flatten()\n",
    "len(user_id)"
   ]
  },
  {
   "cell_type": "code",
   "execution_count": 34,
   "metadata": {},
   "outputs": [
    {
     "name": "stdout",
     "output_type": "stream",
     "text": [
      "(2250, 6)\n"
     ]
    }
   ],
   "source": [
    "data['UserId'] = user_id\n",
    "print(data.shape)"
   ]
  },
  {
   "cell_type": "code",
   "execution_count": 35,
   "metadata": {},
   "outputs": [
    {
     "data": {
      "text/plain": [
       "2250"
      ]
     },
     "execution_count": 35,
     "metadata": {},
     "output_type": "execute_result"
    }
   ],
   "source": [
    "session_id = []\n",
    "i = 1\n",
    "\n",
    "for s_id in range(total_length):\n",
    "    session_id.append(i)\n",
    "    if s_id > 15:\n",
    "        i += 1\n",
    "\n",
    "session_id = np.array(session_id).flatten()\n",
    "len(session_id)"
   ]
  },
  {
   "cell_type": "code",
   "execution_count": 36,
   "metadata": {},
   "outputs": [
    {
     "name": "stdout",
     "output_type": "stream",
     "text": [
      "(2250, 7)\n"
     ]
    }
   ],
   "source": [
    "data['SessionId'] = session_id\n",
    "print(data.shape)"
   ]
  },
  {
   "cell_type": "markdown",
   "metadata": {},
   "source": [
    "# Article Rank"
   ]
  },
  {
   "cell_type": "code",
   "execution_count": 37,
   "metadata": {},
   "outputs": [
    {
     "data": {
      "text/plain": [
       "2250"
      ]
     },
     "execution_count": 37,
     "metadata": {},
     "output_type": "execute_result"
    }
   ],
   "source": [
    "article_rank = []\n",
    "i = 1\n",
    "for ar in range(total_length):\n",
    "    article_rank.append(i)\n",
    "    i += 1\n",
    "    \n",
    "    if i>10:\n",
    "        i = 1\n",
    "len(article_rank)"
   ]
  },
  {
   "cell_type": "code",
   "execution_count": 38,
   "metadata": {},
   "outputs": [],
   "source": [
    "data['Article Rank'] = article_rank"
   ]
  },
  {
   "cell_type": "markdown",
   "metadata": {},
   "source": [
    "# Click status"
   ]
  },
  {
   "cell_type": "code",
   "execution_count": 39,
   "metadata": {},
   "outputs": [
    {
     "data": {
      "text/plain": [
       "2250"
      ]
     },
     "execution_count": 39,
     "metadata": {},
     "output_type": "execute_result"
    }
   ],
   "source": [
    "click_session = []\n",
    "for c in range(total_length):\n",
    "    click_session.append(random.choice([True, False]))\n",
    "    \n",
    "len(click_session)"
   ]
  },
  {
   "cell_type": "code",
   "execution_count": 40,
   "metadata": {},
   "outputs": [],
   "source": [
    "data['Click'] = click_session"
   ]
  },
  {
   "cell_type": "markdown",
   "metadata": {},
   "source": [
    "# Time taken"
   ]
  },
  {
   "cell_type": "code",
   "execution_count": 41,
   "metadata": {},
   "outputs": [
    {
     "data": {
      "text/plain": [
       "2250"
      ]
     },
     "execution_count": 41,
     "metadata": {},
     "output_type": "execute_result"
    }
   ],
   "source": [
    "time_session = []\n",
    "for t in range(total_length):\n",
    "    time_session.append(np.random.randint(10, 100))\n",
    "    \n",
    "# if click is false set time to 0\n",
    "\n",
    "for i in range(total_length):\n",
    "    if click_session[i] is True:\n",
    "        time_session[i] = time_session[i]\n",
    "    else:\n",
    "        time_session[i] = 0\n",
    "\n",
    "len(time_session)"
   ]
  },
  {
   "cell_type": "code",
   "execution_count": 42,
   "metadata": {},
   "outputs": [],
   "source": [
    "data['Time Spent (seconds)'] = time_session"
   ]
  },
  {
   "cell_type": "code",
   "execution_count": 43,
   "metadata": {},
   "outputs": [
    {
     "data": {
      "text/html": [
       "<div>\n",
       "<style scoped>\n",
       "    .dataframe tbody tr th:only-of-type {\n",
       "        vertical-align: middle;\n",
       "    }\n",
       "\n",
       "    .dataframe tbody tr th {\n",
       "        vertical-align: top;\n",
       "    }\n",
       "\n",
       "    .dataframe thead th {\n",
       "        text-align: right;\n",
       "    }\n",
       "</style>\n",
       "<table border=\"1\" class=\"dataframe\">\n",
       "  <thead>\n",
       "    <tr style=\"text-align: right;\">\n",
       "      <th></th>\n",
       "      <th>Article_id</th>\n",
       "      <th>Title</th>\n",
       "      <th>Description</th>\n",
       "      <th>Date</th>\n",
       "      <th>URL</th>\n",
       "      <th>UserId</th>\n",
       "      <th>SessionId</th>\n",
       "      <th>Article Rank</th>\n",
       "      <th>Click</th>\n",
       "      <th>Time Spent (seconds)</th>\n",
       "    </tr>\n",
       "  </thead>\n",
       "  <tbody>\n",
       "    <tr>\n",
       "      <th>0</th>\n",
       "      <td>0</td>\n",
       "      <td>Fire at Vaishno Devi shrine complex; cash coun...</td>\n",
       "      <td>No one was injured in the fire, which broke ou...</td>\n",
       "      <td>June 8, 2021 7:28:32 pm</td>\n",
       "      <td>https://indianexpress.com/article/india/vaishn...</td>\n",
       "      <td>1</td>\n",
       "      <td>1</td>\n",
       "      <td>1</td>\n",
       "      <td>False</td>\n",
       "      <td>0</td>\n",
       "    </tr>\n",
       "    <tr>\n",
       "      <th>1</th>\n",
       "      <td>1</td>\n",
       "      <td>Had not gone to meet Nawaz Sharif, says Uddhav...</td>\n",
       "      <td>Uddhav Thackeray led a delegation of his cabin...</td>\n",
       "      <td>June 8, 2021 6:56:40 pm</td>\n",
       "      <td>https://indianexpress.com/article/india/had-no...</td>\n",
       "      <td>1</td>\n",
       "      <td>1</td>\n",
       "      <td>2</td>\n",
       "      <td>True</td>\n",
       "      <td>53</td>\n",
       "    </tr>\n",
       "    <tr>\n",
       "      <th>2</th>\n",
       "      <td>2</td>\n",
       "      <td>Corruption case: Former Haryana I-T deputy com...</td>\n",
       "      <td>It was in 2016 that the CBI had arrested Nitin...</td>\n",
       "      <td>June 8, 2021  6:25:24 pm</td>\n",
       "      <td>https://indianexpress.com/article/india/corrup...</td>\n",
       "      <td>1</td>\n",
       "      <td>1</td>\n",
       "      <td>3</td>\n",
       "      <td>False</td>\n",
       "      <td>0</td>\n",
       "    </tr>\n",
       "    <tr>\n",
       "      <th>3</th>\n",
       "      <td>3</td>\n",
       "      <td>Kannur MP K Sudhakaran appointed chief of Cong...</td>\n",
       "      <td>Sudhakaran will replace Ramachandran who had a...</td>\n",
       "      <td>June 8, 2021  5:04:40 pm</td>\n",
       "      <td>https://indianexpress.com/article/india/sudhak...</td>\n",
       "      <td>1</td>\n",
       "      <td>1</td>\n",
       "      <td>4</td>\n",
       "      <td>False</td>\n",
       "      <td>0</td>\n",
       "    </tr>\n",
       "    <tr>\n",
       "      <th>4</th>\n",
       "      <td>4</td>\n",
       "      <td>Kerala girl of Class 5 writes to CJI, lauds SC...</td>\n",
       "      <td>Chief Justice N V Ramana responded to the Clas...</td>\n",
       "      <td>June 8, 2021  4:43:10 pm</td>\n",
       "      <td>https://indianexpress.com/article/india/kerala...</td>\n",
       "      <td>1</td>\n",
       "      <td>1</td>\n",
       "      <td>5</td>\n",
       "      <td>True</td>\n",
       "      <td>27</td>\n",
       "    </tr>\n",
       "  </tbody>\n",
       "</table>\n",
       "</div>"
      ],
      "text/plain": [
       "   Article_id                                              Title  \\\n",
       "0           0  Fire at Vaishno Devi shrine complex; cash coun...   \n",
       "1           1  Had not gone to meet Nawaz Sharif, says Uddhav...   \n",
       "2           2  Corruption case: Former Haryana I-T deputy com...   \n",
       "3           3  Kannur MP K Sudhakaran appointed chief of Cong...   \n",
       "4           4  Kerala girl of Class 5 writes to CJI, lauds SC...   \n",
       "\n",
       "                                         Description  \\\n",
       "0  No one was injured in the fire, which broke ou...   \n",
       "1  Uddhav Thackeray led a delegation of his cabin...   \n",
       "2  It was in 2016 that the CBI had arrested Nitin...   \n",
       "3  Sudhakaran will replace Ramachandran who had a...   \n",
       "4  Chief Justice N V Ramana responded to the Clas...   \n",
       "\n",
       "                       Date  \\\n",
       "0   June 8, 2021 7:28:32 pm   \n",
       "1   June 8, 2021 6:56:40 pm   \n",
       "2  June 8, 2021  6:25:24 pm   \n",
       "3  June 8, 2021  5:04:40 pm   \n",
       "4  June 8, 2021  4:43:10 pm   \n",
       "\n",
       "                                                 URL  UserId  SessionId  \\\n",
       "0  https://indianexpress.com/article/india/vaishn...       1          1   \n",
       "1  https://indianexpress.com/article/india/had-no...       1          1   \n",
       "2  https://indianexpress.com/article/india/corrup...       1          1   \n",
       "3  https://indianexpress.com/article/india/sudhak...       1          1   \n",
       "4  https://indianexpress.com/article/india/kerala...       1          1   \n",
       "\n",
       "   Article Rank  Click  Time Spent (seconds)  \n",
       "0             1  False                     0  \n",
       "1             2   True                    53  \n",
       "2             3  False                     0  \n",
       "3             4  False                     0  \n",
       "4             5   True                    27  "
      ]
     },
     "execution_count": 43,
     "metadata": {},
     "output_type": "execute_result"
    }
   ],
   "source": [
    "data.head()"
   ]
  },
  {
   "cell_type": "code",
   "execution_count": 44,
   "metadata": {},
   "outputs": [
    {
     "data": {
      "text/html": [
       "<div>\n",
       "<style scoped>\n",
       "    .dataframe tbody tr th:only-of-type {\n",
       "        vertical-align: middle;\n",
       "    }\n",
       "\n",
       "    .dataframe tbody tr th {\n",
       "        vertical-align: top;\n",
       "    }\n",
       "\n",
       "    .dataframe thead th {\n",
       "        text-align: right;\n",
       "    }\n",
       "</style>\n",
       "<table border=\"1\" class=\"dataframe\">\n",
       "  <thead>\n",
       "    <tr style=\"text-align: right;\">\n",
       "      <th></th>\n",
       "      <th>Article_id</th>\n",
       "      <th>Title</th>\n",
       "      <th>Description</th>\n",
       "      <th>Date</th>\n",
       "      <th>URL</th>\n",
       "      <th>UserId</th>\n",
       "      <th>SessionId</th>\n",
       "      <th>Article Rank</th>\n",
       "      <th>Click</th>\n",
       "      <th>Time Spent (seconds)</th>\n",
       "    </tr>\n",
       "  </thead>\n",
       "  <tbody>\n",
       "    <tr>\n",
       "      <th>2245</th>\n",
       "      <td>2245</td>\n",
       "      <td>Malaika Arora shares yoga asanas for healthy, ...</td>\n",
       "      <td>Malaika Arora shares three yoga poses that can...</td>\n",
       "      <td>May 3, 2021  2:04:14 pm</td>\n",
       "      <td>https://indianexpress.com/article/lifestyle/fi...</td>\n",
       "      <td>2235</td>\n",
       "      <td>2230</td>\n",
       "      <td>6</td>\n",
       "      <td>False</td>\n",
       "      <td>0</td>\n",
       "    </tr>\n",
       "    <tr>\n",
       "      <th>2246</th>\n",
       "      <td>2246</td>\n",
       "      <td>COVID-19 diet: Khichdi is a ‘safe’ option; oth...</td>\n",
       "      <td>One should make sure that the meals are hot an...</td>\n",
       "      <td>May 3, 2021 9:10:55 am</td>\n",
       "      <td>https://indianexpress.com/article/lifestyle/fo...</td>\n",
       "      <td>2236</td>\n",
       "      <td>2231</td>\n",
       "      <td>7</td>\n",
       "      <td>True</td>\n",
       "      <td>14</td>\n",
       "    </tr>\n",
       "    <tr>\n",
       "      <th>2247</th>\n",
       "      <td>2247</td>\n",
       "      <td>‘Keep listening. The world wants to hear your ...</td>\n",
       "      <td>\"Not every problem has a high-tech solution. N...</td>\n",
       "      <td>May 3, 2021 8:15:33 am</td>\n",
       "      <td>https://indianexpress.com/article/lifestyle/li...</td>\n",
       "      <td>2237</td>\n",
       "      <td>2232</td>\n",
       "      <td>8</td>\n",
       "      <td>False</td>\n",
       "      <td>0</td>\n",
       "    </tr>\n",
       "    <tr>\n",
       "      <th>2248</th>\n",
       "      <td>2248</td>\n",
       "      <td>Forget cold drinks, switch to refreshing bael ...</td>\n",
       "      <td>Bael sherbet, a delightful and soothing detox ...</td>\n",
       "      <td>May 2, 2021 10:30:54 pm</td>\n",
       "      <td>https://indianexpress.com/article/lifestyle/fo...</td>\n",
       "      <td>2238</td>\n",
       "      <td>2233</td>\n",
       "      <td>9</td>\n",
       "      <td>False</td>\n",
       "      <td>0</td>\n",
       "    </tr>\n",
       "    <tr>\n",
       "      <th>2249</th>\n",
       "      <td>2249</td>\n",
       "      <td>‘Love wins’: Rita Wilson and Tom Hanks celebra...</td>\n",
       "      <td>The 'Forest Gump' actor nursed a crush on Wils...</td>\n",
       "      <td>May 2, 2021 9:40:39 pm</td>\n",
       "      <td>https://indianexpress.com/article/lifestyle/fe...</td>\n",
       "      <td>2239</td>\n",
       "      <td>2234</td>\n",
       "      <td>10</td>\n",
       "      <td>False</td>\n",
       "      <td>0</td>\n",
       "    </tr>\n",
       "  </tbody>\n",
       "</table>\n",
       "</div>"
      ],
      "text/plain": [
       "      Article_id                                              Title  \\\n",
       "2245        2245  Malaika Arora shares yoga asanas for healthy, ...   \n",
       "2246        2246  COVID-19 diet: Khichdi is a ‘safe’ option; oth...   \n",
       "2247        2247  ‘Keep listening. The world wants to hear your ...   \n",
       "2248        2248  Forget cold drinks, switch to refreshing bael ...   \n",
       "2249        2249  ‘Love wins’: Rita Wilson and Tom Hanks celebra...   \n",
       "\n",
       "                                            Description  \\\n",
       "2245  Malaika Arora shares three yoga poses that can...   \n",
       "2246  One should make sure that the meals are hot an...   \n",
       "2247  \"Not every problem has a high-tech solution. N...   \n",
       "2248  Bael sherbet, a delightful and soothing detox ...   \n",
       "2249  The 'Forest Gump' actor nursed a crush on Wils...   \n",
       "\n",
       "                         Date  \\\n",
       "2245  May 3, 2021  2:04:14 pm   \n",
       "2246   May 3, 2021 9:10:55 am   \n",
       "2247   May 3, 2021 8:15:33 am   \n",
       "2248  May 2, 2021 10:30:54 pm   \n",
       "2249   May 2, 2021 9:40:39 pm   \n",
       "\n",
       "                                                    URL  UserId  SessionId  \\\n",
       "2245  https://indianexpress.com/article/lifestyle/fi...    2235       2230   \n",
       "2246  https://indianexpress.com/article/lifestyle/fo...    2236       2231   \n",
       "2247  https://indianexpress.com/article/lifestyle/li...    2237       2232   \n",
       "2248  https://indianexpress.com/article/lifestyle/fo...    2238       2233   \n",
       "2249  https://indianexpress.com/article/lifestyle/fe...    2239       2234   \n",
       "\n",
       "      Article Rank  Click  Time Spent (seconds)  \n",
       "2245             6  False                     0  \n",
       "2246             7   True                    14  \n",
       "2247             8  False                     0  \n",
       "2248             9  False                     0  \n",
       "2249            10  False                     0  "
      ]
     },
     "execution_count": 44,
     "metadata": {},
     "output_type": "execute_result"
    }
   ],
   "source": [
    "data.tail()"
   ]
  },
  {
   "cell_type": "code",
   "execution_count": 48,
   "metadata": {},
   "outputs": [
    {
     "name": "stdout",
     "output_type": "stream",
     "text": [
      "1127\n"
     ]
    }
   ],
   "source": [
    "for i in range(total_length):\n",
    "    if time_session[i] == 0:\n",
    "        data = data.drop(i)\n",
    "        total_length -= 1\n",
    "print(total_length)"
   ]
  },
  {
   "cell_type": "code",
   "execution_count": 45,
   "metadata": {},
   "outputs": [
    {
     "data": {
      "text/html": [
       "<div>\n",
       "<style scoped>\n",
       "    .dataframe tbody tr th:only-of-type {\n",
       "        vertical-align: middle;\n",
       "    }\n",
       "\n",
       "    .dataframe tbody tr th {\n",
       "        vertical-align: top;\n",
       "    }\n",
       "\n",
       "    .dataframe thead th {\n",
       "        text-align: right;\n",
       "    }\n",
       "</style>\n",
       "<table border=\"1\" class=\"dataframe\">\n",
       "  <thead>\n",
       "    <tr style=\"text-align: right;\">\n",
       "      <th></th>\n",
       "      <th>Article_id</th>\n",
       "      <th>Title</th>\n",
       "      <th>Description</th>\n",
       "      <th>Date</th>\n",
       "      <th>URL</th>\n",
       "      <th>UserId</th>\n",
       "      <th>SessionId</th>\n",
       "      <th>Article Rank</th>\n",
       "      <th>Click</th>\n",
       "      <th>Time Spent (seconds)</th>\n",
       "    </tr>\n",
       "  </thead>\n",
       "  <tbody>\n",
       "    <tr>\n",
       "      <th>0</th>\n",
       "      <td>0</td>\n",
       "      <td>Fire at Vaishno Devi shrine complex; cash coun...</td>\n",
       "      <td>No one was injured in the fire, which broke ou...</td>\n",
       "      <td>June 8, 2021 7:28:32 pm</td>\n",
       "      <td>https://indianexpress.com/article/india/vaishn...</td>\n",
       "      <td>1</td>\n",
       "      <td>1</td>\n",
       "      <td>1</td>\n",
       "      <td>False</td>\n",
       "      <td>0</td>\n",
       "    </tr>\n",
       "    <tr>\n",
       "      <th>1</th>\n",
       "      <td>1</td>\n",
       "      <td>Had not gone to meet Nawaz Sharif, says Uddhav...</td>\n",
       "      <td>Uddhav Thackeray led a delegation of his cabin...</td>\n",
       "      <td>June 8, 2021 6:56:40 pm</td>\n",
       "      <td>https://indianexpress.com/article/india/had-no...</td>\n",
       "      <td>1</td>\n",
       "      <td>1</td>\n",
       "      <td>2</td>\n",
       "      <td>True</td>\n",
       "      <td>53</td>\n",
       "    </tr>\n",
       "    <tr>\n",
       "      <th>2</th>\n",
       "      <td>2</td>\n",
       "      <td>Corruption case: Former Haryana I-T deputy com...</td>\n",
       "      <td>It was in 2016 that the CBI had arrested Nitin...</td>\n",
       "      <td>June 8, 2021  6:25:24 pm</td>\n",
       "      <td>https://indianexpress.com/article/india/corrup...</td>\n",
       "      <td>1</td>\n",
       "      <td>1</td>\n",
       "      <td>3</td>\n",
       "      <td>False</td>\n",
       "      <td>0</td>\n",
       "    </tr>\n",
       "    <tr>\n",
       "      <th>3</th>\n",
       "      <td>3</td>\n",
       "      <td>Kannur MP K Sudhakaran appointed chief of Cong...</td>\n",
       "      <td>Sudhakaran will replace Ramachandran who had a...</td>\n",
       "      <td>June 8, 2021  5:04:40 pm</td>\n",
       "      <td>https://indianexpress.com/article/india/sudhak...</td>\n",
       "      <td>1</td>\n",
       "      <td>1</td>\n",
       "      <td>4</td>\n",
       "      <td>False</td>\n",
       "      <td>0</td>\n",
       "    </tr>\n",
       "    <tr>\n",
       "      <th>4</th>\n",
       "      <td>4</td>\n",
       "      <td>Kerala girl of Class 5 writes to CJI, lauds SC...</td>\n",
       "      <td>Chief Justice N V Ramana responded to the Clas...</td>\n",
       "      <td>June 8, 2021  4:43:10 pm</td>\n",
       "      <td>https://indianexpress.com/article/india/kerala...</td>\n",
       "      <td>1</td>\n",
       "      <td>1</td>\n",
       "      <td>5</td>\n",
       "      <td>True</td>\n",
       "      <td>27</td>\n",
       "    </tr>\n",
       "  </tbody>\n",
       "</table>\n",
       "</div>"
      ],
      "text/plain": [
       "   Article_id                                              Title  \\\n",
       "0           0  Fire at Vaishno Devi shrine complex; cash coun...   \n",
       "1           1  Had not gone to meet Nawaz Sharif, says Uddhav...   \n",
       "2           2  Corruption case: Former Haryana I-T deputy com...   \n",
       "3           3  Kannur MP K Sudhakaran appointed chief of Cong...   \n",
       "4           4  Kerala girl of Class 5 writes to CJI, lauds SC...   \n",
       "\n",
       "                                         Description  \\\n",
       "0  No one was injured in the fire, which broke ou...   \n",
       "1  Uddhav Thackeray led a delegation of his cabin...   \n",
       "2  It was in 2016 that the CBI had arrested Nitin...   \n",
       "3  Sudhakaran will replace Ramachandran who had a...   \n",
       "4  Chief Justice N V Ramana responded to the Clas...   \n",
       "\n",
       "                       Date  \\\n",
       "0   June 8, 2021 7:28:32 pm   \n",
       "1   June 8, 2021 6:56:40 pm   \n",
       "2  June 8, 2021  6:25:24 pm   \n",
       "3  June 8, 2021  5:04:40 pm   \n",
       "4  June 8, 2021  4:43:10 pm   \n",
       "\n",
       "                                                 URL  UserId  SessionId  \\\n",
       "0  https://indianexpress.com/article/india/vaishn...       1          1   \n",
       "1  https://indianexpress.com/article/india/had-no...       1          1   \n",
       "2  https://indianexpress.com/article/india/corrup...       1          1   \n",
       "3  https://indianexpress.com/article/india/sudhak...       1          1   \n",
       "4  https://indianexpress.com/article/india/kerala...       1          1   \n",
       "\n",
       "   Article Rank  Click  Time Spent (seconds)  \n",
       "0             1  False                     0  \n",
       "1             2   True                    53  \n",
       "2             3  False                     0  \n",
       "3             4  False                     0  \n",
       "4             5   True                    27  "
      ]
     },
     "execution_count": 45,
     "metadata": {},
     "output_type": "execute_result"
    }
   ],
   "source": [
    "data.head()"
   ]
  },
  {
   "cell_type": "code",
   "execution_count": 46,
   "metadata": {},
   "outputs": [
    {
     "data": {
      "text/html": [
       "<div>\n",
       "<style scoped>\n",
       "    .dataframe tbody tr th:only-of-type {\n",
       "        vertical-align: middle;\n",
       "    }\n",
       "\n",
       "    .dataframe tbody tr th {\n",
       "        vertical-align: top;\n",
       "    }\n",
       "\n",
       "    .dataframe thead th {\n",
       "        text-align: right;\n",
       "    }\n",
       "</style>\n",
       "<table border=\"1\" class=\"dataframe\">\n",
       "  <thead>\n",
       "    <tr style=\"text-align: right;\">\n",
       "      <th></th>\n",
       "      <th>Article_id</th>\n",
       "      <th>Title</th>\n",
       "      <th>Description</th>\n",
       "      <th>Date</th>\n",
       "      <th>URL</th>\n",
       "      <th>UserId</th>\n",
       "      <th>SessionId</th>\n",
       "      <th>Article Rank</th>\n",
       "      <th>Click</th>\n",
       "      <th>Time Spent (seconds)</th>\n",
       "    </tr>\n",
       "  </thead>\n",
       "  <tbody>\n",
       "    <tr>\n",
       "      <th>2245</th>\n",
       "      <td>2245</td>\n",
       "      <td>Malaika Arora shares yoga asanas for healthy, ...</td>\n",
       "      <td>Malaika Arora shares three yoga poses that can...</td>\n",
       "      <td>May 3, 2021  2:04:14 pm</td>\n",
       "      <td>https://indianexpress.com/article/lifestyle/fi...</td>\n",
       "      <td>2235</td>\n",
       "      <td>2230</td>\n",
       "      <td>6</td>\n",
       "      <td>False</td>\n",
       "      <td>0</td>\n",
       "    </tr>\n",
       "    <tr>\n",
       "      <th>2246</th>\n",
       "      <td>2246</td>\n",
       "      <td>COVID-19 diet: Khichdi is a ‘safe’ option; oth...</td>\n",
       "      <td>One should make sure that the meals are hot an...</td>\n",
       "      <td>May 3, 2021 9:10:55 am</td>\n",
       "      <td>https://indianexpress.com/article/lifestyle/fo...</td>\n",
       "      <td>2236</td>\n",
       "      <td>2231</td>\n",
       "      <td>7</td>\n",
       "      <td>True</td>\n",
       "      <td>14</td>\n",
       "    </tr>\n",
       "    <tr>\n",
       "      <th>2247</th>\n",
       "      <td>2247</td>\n",
       "      <td>‘Keep listening. The world wants to hear your ...</td>\n",
       "      <td>\"Not every problem has a high-tech solution. N...</td>\n",
       "      <td>May 3, 2021 8:15:33 am</td>\n",
       "      <td>https://indianexpress.com/article/lifestyle/li...</td>\n",
       "      <td>2237</td>\n",
       "      <td>2232</td>\n",
       "      <td>8</td>\n",
       "      <td>False</td>\n",
       "      <td>0</td>\n",
       "    </tr>\n",
       "    <tr>\n",
       "      <th>2248</th>\n",
       "      <td>2248</td>\n",
       "      <td>Forget cold drinks, switch to refreshing bael ...</td>\n",
       "      <td>Bael sherbet, a delightful and soothing detox ...</td>\n",
       "      <td>May 2, 2021 10:30:54 pm</td>\n",
       "      <td>https://indianexpress.com/article/lifestyle/fo...</td>\n",
       "      <td>2238</td>\n",
       "      <td>2233</td>\n",
       "      <td>9</td>\n",
       "      <td>False</td>\n",
       "      <td>0</td>\n",
       "    </tr>\n",
       "    <tr>\n",
       "      <th>2249</th>\n",
       "      <td>2249</td>\n",
       "      <td>‘Love wins’: Rita Wilson and Tom Hanks celebra...</td>\n",
       "      <td>The 'Forest Gump' actor nursed a crush on Wils...</td>\n",
       "      <td>May 2, 2021 9:40:39 pm</td>\n",
       "      <td>https://indianexpress.com/article/lifestyle/fe...</td>\n",
       "      <td>2239</td>\n",
       "      <td>2234</td>\n",
       "      <td>10</td>\n",
       "      <td>False</td>\n",
       "      <td>0</td>\n",
       "    </tr>\n",
       "  </tbody>\n",
       "</table>\n",
       "</div>"
      ],
      "text/plain": [
       "      Article_id                                              Title  \\\n",
       "2245        2245  Malaika Arora shares yoga asanas for healthy, ...   \n",
       "2246        2246  COVID-19 diet: Khichdi is a ‘safe’ option; oth...   \n",
       "2247        2247  ‘Keep listening. The world wants to hear your ...   \n",
       "2248        2248  Forget cold drinks, switch to refreshing bael ...   \n",
       "2249        2249  ‘Love wins’: Rita Wilson and Tom Hanks celebra...   \n",
       "\n",
       "                                            Description  \\\n",
       "2245  Malaika Arora shares three yoga poses that can...   \n",
       "2246  One should make sure that the meals are hot an...   \n",
       "2247  \"Not every problem has a high-tech solution. N...   \n",
       "2248  Bael sherbet, a delightful and soothing detox ...   \n",
       "2249  The 'Forest Gump' actor nursed a crush on Wils...   \n",
       "\n",
       "                         Date  \\\n",
       "2245  May 3, 2021  2:04:14 pm   \n",
       "2246   May 3, 2021 9:10:55 am   \n",
       "2247   May 3, 2021 8:15:33 am   \n",
       "2248  May 2, 2021 10:30:54 pm   \n",
       "2249   May 2, 2021 9:40:39 pm   \n",
       "\n",
       "                                                    URL  UserId  SessionId  \\\n",
       "2245  https://indianexpress.com/article/lifestyle/fi...    2235       2230   \n",
       "2246  https://indianexpress.com/article/lifestyle/fo...    2236       2231   \n",
       "2247  https://indianexpress.com/article/lifestyle/li...    2237       2232   \n",
       "2248  https://indianexpress.com/article/lifestyle/fo...    2238       2233   \n",
       "2249  https://indianexpress.com/article/lifestyle/fe...    2239       2234   \n",
       "\n",
       "      Article Rank  Click  Time Spent (seconds)  \n",
       "2245             6  False                     0  \n",
       "2246             7   True                    14  \n",
       "2247             8  False                     0  \n",
       "2248             9  False                     0  \n",
       "2249            10  False                     0  "
      ]
     },
     "execution_count": 46,
     "metadata": {},
     "output_type": "execute_result"
    }
   ],
   "source": [
    "data.tail()"
   ]
  },
  {
   "cell_type": "code",
   "execution_count": 47,
   "metadata": {},
   "outputs": [
    {
     "data": {
      "text/plain": [
       "(2250, 10)"
      ]
     },
     "execution_count": 47,
     "metadata": {},
     "output_type": "execute_result"
    }
   ],
   "source": [
    "data.shape"
   ]
  },
  {
   "cell_type": "code",
   "execution_count": 48,
   "metadata": {},
   "outputs": [],
   "source": [
    "data.to_csv('2_user_interest.csv')"
   ]
  },
  {
   "cell_type": "markdown",
   "metadata": {},
   "source": [
    "## For makinng Recommendations based on Ratings, we need to generate Ratings\n",
    "\n",
    "Method followed:\n",
    "    \n",
    "    1. 0 rating for least interesting article\n",
    "    \n",
    "    2. 5 rating for most interesting article"
   ]
  },
  {
   "cell_type": "code",
   "execution_count": 49,
   "metadata": {},
   "outputs": [
    {
     "data": {
      "text/plain": [
       "2250"
      ]
     },
     "execution_count": 49,
     "metadata": {},
     "output_type": "execute_result"
    }
   ],
   "source": [
    "ratings = []\n",
    "for r in range(total_length):\n",
    "    ratings.append(np.random.randint(1, 6))\n",
    "        \n",
    "len(ratings)"
   ]
  },
  {
   "cell_type": "markdown",
   "metadata": {},
   "source": [
    "### Adding Rating Dataframe"
   ]
  },
  {
   "cell_type": "code",
   "execution_count": 50,
   "metadata": {},
   "outputs": [
    {
     "data": {
      "text/html": [
       "<div>\n",
       "<style scoped>\n",
       "    .dataframe tbody tr th:only-of-type {\n",
       "        vertical-align: middle;\n",
       "    }\n",
       "\n",
       "    .dataframe tbody tr th {\n",
       "        vertical-align: top;\n",
       "    }\n",
       "\n",
       "    .dataframe thead th {\n",
       "        text-align: right;\n",
       "    }\n",
       "</style>\n",
       "<table border=\"1\" class=\"dataframe\">\n",
       "  <thead>\n",
       "    <tr style=\"text-align: right;\">\n",
       "      <th></th>\n",
       "      <th>Article_id</th>\n",
       "      <th>Title</th>\n",
       "      <th>Description</th>\n",
       "      <th>Date</th>\n",
       "      <th>URL</th>\n",
       "      <th>UserId</th>\n",
       "      <th>SessionId</th>\n",
       "      <th>Article Rank</th>\n",
       "      <th>Click</th>\n",
       "      <th>Time Spent (seconds)</th>\n",
       "      <th>Ratings</th>\n",
       "    </tr>\n",
       "  </thead>\n",
       "  <tbody>\n",
       "    <tr>\n",
       "      <th>0</th>\n",
       "      <td>0</td>\n",
       "      <td>Fire at Vaishno Devi shrine complex; cash coun...</td>\n",
       "      <td>No one was injured in the fire, which broke ou...</td>\n",
       "      <td>June 8, 2021 7:28:32 pm</td>\n",
       "      <td>https://indianexpress.com/article/india/vaishn...</td>\n",
       "      <td>1</td>\n",
       "      <td>1</td>\n",
       "      <td>1</td>\n",
       "      <td>False</td>\n",
       "      <td>0</td>\n",
       "      <td>3</td>\n",
       "    </tr>\n",
       "    <tr>\n",
       "      <th>1</th>\n",
       "      <td>1</td>\n",
       "      <td>Had not gone to meet Nawaz Sharif, says Uddhav...</td>\n",
       "      <td>Uddhav Thackeray led a delegation of his cabin...</td>\n",
       "      <td>June 8, 2021 6:56:40 pm</td>\n",
       "      <td>https://indianexpress.com/article/india/had-no...</td>\n",
       "      <td>1</td>\n",
       "      <td>1</td>\n",
       "      <td>2</td>\n",
       "      <td>True</td>\n",
       "      <td>53</td>\n",
       "      <td>1</td>\n",
       "    </tr>\n",
       "    <tr>\n",
       "      <th>2</th>\n",
       "      <td>2</td>\n",
       "      <td>Corruption case: Former Haryana I-T deputy com...</td>\n",
       "      <td>It was in 2016 that the CBI had arrested Nitin...</td>\n",
       "      <td>June 8, 2021  6:25:24 pm</td>\n",
       "      <td>https://indianexpress.com/article/india/corrup...</td>\n",
       "      <td>1</td>\n",
       "      <td>1</td>\n",
       "      <td>3</td>\n",
       "      <td>False</td>\n",
       "      <td>0</td>\n",
       "      <td>2</td>\n",
       "    </tr>\n",
       "    <tr>\n",
       "      <th>3</th>\n",
       "      <td>3</td>\n",
       "      <td>Kannur MP K Sudhakaran appointed chief of Cong...</td>\n",
       "      <td>Sudhakaran will replace Ramachandran who had a...</td>\n",
       "      <td>June 8, 2021  5:04:40 pm</td>\n",
       "      <td>https://indianexpress.com/article/india/sudhak...</td>\n",
       "      <td>1</td>\n",
       "      <td>1</td>\n",
       "      <td>4</td>\n",
       "      <td>False</td>\n",
       "      <td>0</td>\n",
       "      <td>2</td>\n",
       "    </tr>\n",
       "    <tr>\n",
       "      <th>4</th>\n",
       "      <td>4</td>\n",
       "      <td>Kerala girl of Class 5 writes to CJI, lauds SC...</td>\n",
       "      <td>Chief Justice N V Ramana responded to the Clas...</td>\n",
       "      <td>June 8, 2021  4:43:10 pm</td>\n",
       "      <td>https://indianexpress.com/article/india/kerala...</td>\n",
       "      <td>1</td>\n",
       "      <td>1</td>\n",
       "      <td>5</td>\n",
       "      <td>True</td>\n",
       "      <td>27</td>\n",
       "      <td>3</td>\n",
       "    </tr>\n",
       "  </tbody>\n",
       "</table>\n",
       "</div>"
      ],
      "text/plain": [
       "   Article_id                                              Title  \\\n",
       "0           0  Fire at Vaishno Devi shrine complex; cash coun...   \n",
       "1           1  Had not gone to meet Nawaz Sharif, says Uddhav...   \n",
       "2           2  Corruption case: Former Haryana I-T deputy com...   \n",
       "3           3  Kannur MP K Sudhakaran appointed chief of Cong...   \n",
       "4           4  Kerala girl of Class 5 writes to CJI, lauds SC...   \n",
       "\n",
       "                                         Description  \\\n",
       "0  No one was injured in the fire, which broke ou...   \n",
       "1  Uddhav Thackeray led a delegation of his cabin...   \n",
       "2  It was in 2016 that the CBI had arrested Nitin...   \n",
       "3  Sudhakaran will replace Ramachandran who had a...   \n",
       "4  Chief Justice N V Ramana responded to the Clas...   \n",
       "\n",
       "                       Date  \\\n",
       "0   June 8, 2021 7:28:32 pm   \n",
       "1   June 8, 2021 6:56:40 pm   \n",
       "2  June 8, 2021  6:25:24 pm   \n",
       "3  June 8, 2021  5:04:40 pm   \n",
       "4  June 8, 2021  4:43:10 pm   \n",
       "\n",
       "                                                 URL  UserId  SessionId  \\\n",
       "0  https://indianexpress.com/article/india/vaishn...       1          1   \n",
       "1  https://indianexpress.com/article/india/had-no...       1          1   \n",
       "2  https://indianexpress.com/article/india/corrup...       1          1   \n",
       "3  https://indianexpress.com/article/india/sudhak...       1          1   \n",
       "4  https://indianexpress.com/article/india/kerala...       1          1   \n",
       "\n",
       "   Article Rank  Click  Time Spent (seconds)  Ratings  \n",
       "0             1  False                     0        3  \n",
       "1             2   True                    53        1  \n",
       "2             3  False                     0        2  \n",
       "3             4  False                     0        2  \n",
       "4             5   True                    27        3  "
      ]
     },
     "execution_count": 50,
     "metadata": {},
     "output_type": "execute_result"
    }
   ],
   "source": [
    "data['Ratings'] = ratings\n",
    "data.head()"
   ]
  },
  {
   "cell_type": "code",
   "execution_count": null,
   "metadata": {},
   "outputs": [],
   "source": [
    "ratings_data = data.drop(columns = ['Desccription', 'Date', 'URL', 'Click'])\n",
    "ratings_data.head()"
   ]
  },
  {
   "cell_type": "code",
   "execution_count": null,
   "metadata": {},
   "outputs": [],
   "source": [
    "ratings_data.to_csv('3_rated_articles.csv')"
   ]
  }
 ],
 "metadata": {
  "kernelspec": {
   "display_name": "Python 3",
   "language": "python",
   "name": "python3"
  },
  "language_info": {
   "codemirror_mode": {
    "name": "ipython",
    "version": 3
   },
   "file_extension": ".py",
   "mimetype": "text/x-python",
   "name": "python",
   "nbconvert_exporter": "python",
   "pygments_lexer": "ipython3",
   "version": "3.8.2"
  }
 },
 "nbformat": 4,
 "nbformat_minor": 2
}
