{
 "cells": [
  {
   "cell_type": "code",
   "execution_count": 1,
   "metadata": {},
   "outputs": [],
   "source": [
    "import matplotlib.pyplot as plt\n",
    "import numpy as np\n",
    "import pandas as pd\n",
    "import string\n",
    "import re"
   ]
  },
  {
   "cell_type": "code",
   "execution_count": 2,
   "metadata": {},
   "outputs": [
    {
     "name": "stderr",
     "output_type": "stream",
     "text": [
      "/Users/harman/venv/jupyter/lib/python3.8/site-packages/gensim/similarities/__init__.py:15: UserWarning: The gensim.similarities.levenshtein submodule is disabled, because the optional Levenshtein package <https://pypi.org/project/python-Levenshtein/> is unavailable. Install Levenhstein (e.g. `pip install python-Levenshtein`) to suppress this warning.\n",
      "  warnings.warn(msg)\n"
     ]
    }
   ],
   "source": [
    "import gensim\n",
    "from gensim import corpora, models, similarities\n",
    "\n",
    "import nltk\n",
    "from nltk.corpus import stopwords"
   ]
  },
  {
   "cell_type": "code",
   "execution_count": 3,
   "metadata": {},
   "outputs": [],
   "source": [
    "import scipy\n",
    "from scipy.spatial.distance import cdist\n",
    "from scipy.sparse import csr_matrix\n",
    "from scipy.sparse.linalg import svds\n",
    "from scipy.linalg import svd"
   ]
  },
  {
   "cell_type": "code",
   "execution_count": 4,
   "metadata": {},
   "outputs": [],
   "source": [
    "from sklearn.cluster import KMeans\n",
    "from sklearn.feature_extraction.text import TfidfVectorizer\n",
    "from sklearn.metrics import silhouette_score, silhouette_samples\n",
    "from sklearn.metrics.pairwise import cosine_similarity, linear_kernel\n",
    "from sklearn.model_selection import train_test_split"
   ]
  },
  {
   "attachments": {},
   "cell_type": "markdown",
   "metadata": {},
   "source": [
    "# Reading data sets\n",
    "\n",
    "1. news_articles - Contains raw articles without user data amalgamation\n",
    "2. user_interest - Contains raw articles mixed with user data as an amalgamation with ArticleID as Foreign Key"
   ]
  },
  {
   "attachments": {},
   "cell_type": "markdown",
   "metadata": {},
   "source": [
    "## news_articles"
   ]
  },
  {
   "cell_type": "code",
   "execution_count": 5,
   "metadata": {
    "scrolled": true
   },
   "outputs": [
    {
     "data": {
      "text/html": [
       "<div>\n",
       "<style scoped>\n",
       "    .dataframe tbody tr th:only-of-type {\n",
       "        vertical-align: middle;\n",
       "    }\n",
       "\n",
       "    .dataframe tbody tr th {\n",
       "        vertical-align: top;\n",
       "    }\n",
       "\n",
       "    .dataframe thead th {\n",
       "        text-align: right;\n",
       "    }\n",
       "</style>\n",
       "<table border=\"1\" class=\"dataframe\">\n",
       "  <thead>\n",
       "    <tr style=\"text-align: right;\">\n",
       "      <th></th>\n",
       "      <th>Article_id</th>\n",
       "      <th>Title</th>\n",
       "      <th>Description</th>\n",
       "      <th>Date</th>\n",
       "      <th>Category</th>\n",
       "      <th>URL</th>\n",
       "    </tr>\n",
       "  </thead>\n",
       "  <tbody>\n",
       "    <tr>\n",
       "      <th>0</th>\n",
       "      <td>0</td>\n",
       "      <td>Fire at Vaishno Devi shrine complex; cash coun...</td>\n",
       "      <td>No one was injured in the fire, which broke ou...</td>\n",
       "      <td>June 8, 2021 7:28:32 pm</td>\n",
       "      <td>India</td>\n",
       "      <td>https://indianexpress.com/article/india/vaishn...</td>\n",
       "    </tr>\n",
       "    <tr>\n",
       "      <th>1</th>\n",
       "      <td>1</td>\n",
       "      <td>Had not gone to meet Nawaz Sharif, says Uddhav...</td>\n",
       "      <td>Uddhav Thackeray led a delegation of his cabin...</td>\n",
       "      <td>June 8, 2021 6:56:40 pm</td>\n",
       "      <td>India</td>\n",
       "      <td>https://indianexpress.com/article/india/had-no...</td>\n",
       "    </tr>\n",
       "    <tr>\n",
       "      <th>2</th>\n",
       "      <td>2</td>\n",
       "      <td>Corruption case: Former Haryana I-T deputy com...</td>\n",
       "      <td>It was in 2016 that the CBI had arrested Nitin...</td>\n",
       "      <td>June 8, 2021  6:25:24 pm</td>\n",
       "      <td>India</td>\n",
       "      <td>https://indianexpress.com/article/india/corrup...</td>\n",
       "    </tr>\n",
       "    <tr>\n",
       "      <th>3</th>\n",
       "      <td>3</td>\n",
       "      <td>Kannur MP K Sudhakaran appointed chief of Cong...</td>\n",
       "      <td>Sudhakaran will replace Ramachandran who had a...</td>\n",
       "      <td>June 8, 2021  5:04:40 pm</td>\n",
       "      <td>India</td>\n",
       "      <td>https://indianexpress.com/article/india/sudhak...</td>\n",
       "    </tr>\n",
       "    <tr>\n",
       "      <th>4</th>\n",
       "      <td>4</td>\n",
       "      <td>Kerala girl of Class 5 writes to CJI, lauds SC...</td>\n",
       "      <td>Chief Justice N V Ramana responded to the Clas...</td>\n",
       "      <td>June 8, 2021  4:43:10 pm</td>\n",
       "      <td>India</td>\n",
       "      <td>https://indianexpress.com/article/india/kerala...</td>\n",
       "    </tr>\n",
       "  </tbody>\n",
       "</table>\n",
       "</div>"
      ],
      "text/plain": [
       "   Article_id                                              Title  \\\n",
       "0           0  Fire at Vaishno Devi shrine complex; cash coun...   \n",
       "1           1  Had not gone to meet Nawaz Sharif, says Uddhav...   \n",
       "2           2  Corruption case: Former Haryana I-T deputy com...   \n",
       "3           3  Kannur MP K Sudhakaran appointed chief of Cong...   \n",
       "4           4  Kerala girl of Class 5 writes to CJI, lauds SC...   \n",
       "\n",
       "                                         Description  \\\n",
       "0  No one was injured in the fire, which broke ou...   \n",
       "1  Uddhav Thackeray led a delegation of his cabin...   \n",
       "2  It was in 2016 that the CBI had arrested Nitin...   \n",
       "3  Sudhakaran will replace Ramachandran who had a...   \n",
       "4  Chief Justice N V Ramana responded to the Clas...   \n",
       "\n",
       "                       Date Category  \\\n",
       "0   June 8, 2021 7:28:32 pm    India   \n",
       "1   June 8, 2021 6:56:40 pm    India   \n",
       "2  June 8, 2021  6:25:24 pm    India   \n",
       "3  June 8, 2021  5:04:40 pm    India   \n",
       "4  June 8, 2021  4:43:10 pm    India   \n",
       "\n",
       "                                                 URL  \n",
       "0  https://indianexpress.com/article/india/vaishn...  \n",
       "1  https://indianexpress.com/article/india/had-no...  \n",
       "2  https://indianexpress.com/article/india/corrup...  \n",
       "3  https://indianexpress.com/article/india/sudhak...  \n",
       "4  https://indianexpress.com/article/india/kerala...  "
      ]
     },
     "execution_count": 5,
     "metadata": {},
     "output_type": "execute_result"
    }
   ],
   "source": [
    "data = pd.read_csv(r'/Users/harman/Desktop/EDA_NLP/Recommendation System/data/0_news_articles.csv')\n",
    "data.head()"
   ]
  },
  {
   "attachments": {},
   "cell_type": "markdown",
   "metadata": {},
   "source": [
    "## user_interest"
   ]
  },
  {
   "cell_type": "code",
   "execution_count": 10,
   "metadata": {},
   "outputs": [
    {
     "name": "stdout",
     "output_type": "stream",
     "text": [
      "(2250, 11)\n"
     ]
    },
    {
     "data": {
      "text/html": [
       "<div>\n",
       "<style scoped>\n",
       "    .dataframe tbody tr th:only-of-type {\n",
       "        vertical-align: middle;\n",
       "    }\n",
       "\n",
       "    .dataframe tbody tr th {\n",
       "        vertical-align: top;\n",
       "    }\n",
       "\n",
       "    .dataframe thead th {\n",
       "        text-align: right;\n",
       "    }\n",
       "</style>\n",
       "<table border=\"1\" class=\"dataframe\">\n",
       "  <thead>\n",
       "    <tr style=\"text-align: right;\">\n",
       "      <th></th>\n",
       "      <th>Article_id</th>\n",
       "      <th>Title</th>\n",
       "      <th>Description</th>\n",
       "      <th>Date</th>\n",
       "      <th>URL</th>\n",
       "      <th>UserId</th>\n",
       "      <th>SessionId</th>\n",
       "      <th>Article Rank</th>\n",
       "      <th>Click</th>\n",
       "      <th>Time Spent (seconds)</th>\n",
       "    </tr>\n",
       "  </thead>\n",
       "  <tbody>\n",
       "    <tr>\n",
       "      <th>0</th>\n",
       "      <td>0</td>\n",
       "      <td>Fire at Vaishno Devi shrine complex; cash coun...</td>\n",
       "      <td>No one was injured in the fire, which broke ou...</td>\n",
       "      <td>June 8, 2021 7:28:32 pm</td>\n",
       "      <td>https://indianexpress.com/article/india/vaishn...</td>\n",
       "      <td>1</td>\n",
       "      <td>1</td>\n",
       "      <td>1</td>\n",
       "      <td>False</td>\n",
       "      <td>0</td>\n",
       "    </tr>\n",
       "    <tr>\n",
       "      <th>1</th>\n",
       "      <td>1</td>\n",
       "      <td>Had not gone to meet Nawaz Sharif, says Uddhav...</td>\n",
       "      <td>Uddhav Thackeray led a delegation of his cabin...</td>\n",
       "      <td>June 8, 2021 6:56:40 pm</td>\n",
       "      <td>https://indianexpress.com/article/india/had-no...</td>\n",
       "      <td>1</td>\n",
       "      <td>1</td>\n",
       "      <td>2</td>\n",
       "      <td>True</td>\n",
       "      <td>53</td>\n",
       "    </tr>\n",
       "    <tr>\n",
       "      <th>2</th>\n",
       "      <td>2</td>\n",
       "      <td>Corruption case: Former Haryana I-T deputy com...</td>\n",
       "      <td>It was in 2016 that the CBI had arrested Nitin...</td>\n",
       "      <td>June 8, 2021  6:25:24 pm</td>\n",
       "      <td>https://indianexpress.com/article/india/corrup...</td>\n",
       "      <td>1</td>\n",
       "      <td>1</td>\n",
       "      <td>3</td>\n",
       "      <td>False</td>\n",
       "      <td>0</td>\n",
       "    </tr>\n",
       "    <tr>\n",
       "      <th>3</th>\n",
       "      <td>3</td>\n",
       "      <td>Kannur MP K Sudhakaran appointed chief of Cong...</td>\n",
       "      <td>Sudhakaran will replace Ramachandran who had a...</td>\n",
       "      <td>June 8, 2021  5:04:40 pm</td>\n",
       "      <td>https://indianexpress.com/article/india/sudhak...</td>\n",
       "      <td>1</td>\n",
       "      <td>1</td>\n",
       "      <td>4</td>\n",
       "      <td>False</td>\n",
       "      <td>0</td>\n",
       "    </tr>\n",
       "    <tr>\n",
       "      <th>4</th>\n",
       "      <td>4</td>\n",
       "      <td>Kerala girl of Class 5 writes to CJI, lauds SC...</td>\n",
       "      <td>Chief Justice N V Ramana responded to the Clas...</td>\n",
       "      <td>June 8, 2021  4:43:10 pm</td>\n",
       "      <td>https://indianexpress.com/article/india/kerala...</td>\n",
       "      <td>1</td>\n",
       "      <td>1</td>\n",
       "      <td>5</td>\n",
       "      <td>True</td>\n",
       "      <td>27</td>\n",
       "    </tr>\n",
       "  </tbody>\n",
       "</table>\n",
       "</div>"
      ],
      "text/plain": [
       "   Article_id                                              Title  \\\n",
       "0           0  Fire at Vaishno Devi shrine complex; cash coun...   \n",
       "1           1  Had not gone to meet Nawaz Sharif, says Uddhav...   \n",
       "2           2  Corruption case: Former Haryana I-T deputy com...   \n",
       "3           3  Kannur MP K Sudhakaran appointed chief of Cong...   \n",
       "4           4  Kerala girl of Class 5 writes to CJI, lauds SC...   \n",
       "\n",
       "                                         Description  \\\n",
       "0  No one was injured in the fire, which broke ou...   \n",
       "1  Uddhav Thackeray led a delegation of his cabin...   \n",
       "2  It was in 2016 that the CBI had arrested Nitin...   \n",
       "3  Sudhakaran will replace Ramachandran who had a...   \n",
       "4  Chief Justice N V Ramana responded to the Clas...   \n",
       "\n",
       "                       Date  \\\n",
       "0   June 8, 2021 7:28:32 pm   \n",
       "1   June 8, 2021 6:56:40 pm   \n",
       "2  June 8, 2021  6:25:24 pm   \n",
       "3  June 8, 2021  5:04:40 pm   \n",
       "4  June 8, 2021  4:43:10 pm   \n",
       "\n",
       "                                                 URL  UserId  SessionId  \\\n",
       "0  https://indianexpress.com/article/india/vaishn...       1          1   \n",
       "1  https://indianexpress.com/article/india/had-no...       1          1   \n",
       "2  https://indianexpress.com/article/india/corrup...       1          1   \n",
       "3  https://indianexpress.com/article/india/sudhak...       1          1   \n",
       "4  https://indianexpress.com/article/india/kerala...       1          1   \n",
       "\n",
       "   Article Rank  Click  Time Spent (seconds)  \n",
       "0             1  False                     0  \n",
       "1             2   True                    53  \n",
       "2             3  False                     0  \n",
       "3             4  False                     0  \n",
       "4             5   True                    27  "
      ]
     },
     "execution_count": 10,
     "metadata": {},
     "output_type": "execute_result"
    }
   ],
   "source": [
    "user = pd.read_csv(r'/Users/harman/Desktop/EDA_NLP/Recommendation System/data/2_user_interest.csv')\n",
    "print(user.shape)\n",
    "user.drop(columns= user.columns[0], \n",
    "        axis=1, \n",
    "        inplace=True)\n",
    "user.head()\n"
   ]
  },
  {
   "attachments": {},
   "cell_type": "markdown",
   "metadata": {},
   "source": [
    "## Content Based"
   ]
  },
  {
   "cell_type": "code",
   "execution_count": 11,
   "metadata": {},
   "outputs": [
    {
     "data": {
      "text/plain": [
       "(2250, 6723)"
      ]
     },
     "execution_count": 11,
     "metadata": {},
     "output_type": "execute_result"
    }
   ],
   "source": [
    "vectorizer = TfidfVectorizer(analyzer = 'word')\n",
    "tfidf_matrix = vectorizer.fit_transform(user['Title'])\n",
    "tfidf_matrix.shape"
   ]
  },
  {
   "cell_type": "code",
   "execution_count": 12,
   "metadata": {},
   "outputs": [],
   "source": [
    "# cosine-similarity (linear kernel)\n",
    "cosine_similarity = linear_kernel(tfidf_matrix, tfidf_matrix)\n",
    "\n",
    "# index of Title\n",
    "indices = pd.Series(user['Title'].index)"
   ]
  },
  {
   "cell_type": "code",
   "execution_count": 13,
   "metadata": {},
   "outputs": [],
   "source": [
    "# making predictions\n",
    "\n",
    "def recommendation(index, method):\n",
    "    id = indices[index]\n",
    "    \n",
    "    # fetching the top 10 articles\n",
    "    \n",
    "    similarity_score = list(enumerate(method[id]))\n",
    "    similarity_score = sorted(similarity_score, key = lambda x: x[1], reverse = True)\n",
    "    similarity_score = similarity_score[1:11]\n",
    "    \n",
    "    # get the article index\n",
    "    news_index = [i[0] for i in similarity_score]\n",
    "    \n",
    "    # returning the top 10 most similar books\n",
    "    return user['Title'].iloc[news_index]"
   ]
  },
  {
   "cell_type": "code",
   "execution_count": 14,
   "metadata": {},
   "outputs": [
    {
     "data": {
      "text/html": [
       "<div>\n",
       "<style scoped>\n",
       "    .dataframe tbody tr th:only-of-type {\n",
       "        vertical-align: middle;\n",
       "    }\n",
       "\n",
       "    .dataframe tbody tr th {\n",
       "        vertical-align: top;\n",
       "    }\n",
       "\n",
       "    .dataframe thead th {\n",
       "        text-align: right;\n",
       "    }\n",
       "</style>\n",
       "<table border=\"1\" class=\"dataframe\">\n",
       "  <thead>\n",
       "    <tr style=\"text-align: right;\">\n",
       "      <th></th>\n",
       "      <th>Article_id</th>\n",
       "      <th>Title</th>\n",
       "      <th>Description</th>\n",
       "      <th>Date</th>\n",
       "      <th>URL</th>\n",
       "      <th>UserId</th>\n",
       "      <th>SessionId</th>\n",
       "      <th>Article Rank</th>\n",
       "      <th>Click</th>\n",
       "      <th>Time Spent (seconds)</th>\n",
       "    </tr>\n",
       "  </thead>\n",
       "  <tbody>\n",
       "    <tr>\n",
       "      <th>1740</th>\n",
       "      <td>1740</td>\n",
       "      <td>Monsoon tips: Here’s how to keep your skin hea...</td>\n",
       "      <td>It is essential to tweak your routine accordin...</td>\n",
       "      <td>May 28, 2021 4:40:14 pm</td>\n",
       "      <td>https://indianexpress.com/article/lifestyle/li...</td>\n",
       "      <td>1730</td>\n",
       "      <td>1725</td>\n",
       "      <td>1</td>\n",
       "      <td>False</td>\n",
       "      <td>0</td>\n",
       "    </tr>\n",
       "  </tbody>\n",
       "</table>\n",
       "</div>"
      ],
      "text/plain": [
       "      Article_id                                              Title  \\\n",
       "1740        1740  Monsoon tips: Here’s how to keep your skin hea...   \n",
       "\n",
       "                                            Description  \\\n",
       "1740  It is essential to tweak your routine accordin...   \n",
       "\n",
       "                         Date  \\\n",
       "1740  May 28, 2021 4:40:14 pm   \n",
       "\n",
       "                                                    URL  UserId  SessionId  \\\n",
       "1740  https://indianexpress.com/article/lifestyle/li...    1730       1725   \n",
       "\n",
       "      Article Rank  Click  Time Spent (seconds)  \n",
       "1740             1  False                     0  "
      ]
     },
     "execution_count": 14,
     "metadata": {},
     "output_type": "execute_result"
    }
   ],
   "source": [
    "# obtaining random input\n",
    "input = user.sample()\n",
    "input"
   ]
  },
  {
   "cell_type": "code",
   "execution_count": 15,
   "metadata": {},
   "outputs": [
    {
     "data": {
      "text/plain": [
       "172     Editors Guild welcomes SC judgment on sedition...\n",
       "356     SC restrains AP police from coercive action ag...\n",
       "455     Reasoned order must for granting protection fr...\n",
       "337     Dumping of bodies in rivers echos in SC, court...\n",
       "183     Supreme Court underlines its ruling to protect...\n",
       "111     J&K journalist booked for WhatsApp status over...\n",
       "2102    What type of mask should you wear for better p...\n",
       "151     SC rejects plea against bail to Varun Hiremath...\n",
       "679     Narada case: CBI goes to SC, tells HC of Benga...\n",
       "1654    Genetic health conditions every woman should k...\n",
       "Name: Title, dtype: object"
      ]
     },
     "execution_count": 15,
     "metadata": {},
     "output_type": "execute_result"
    }
   ],
   "source": [
    "# passing the input\n",
    "recommendation(224, cosine_similarity)"
   ]
  },
  {
   "cell_type": "code",
   "execution_count": null,
   "metadata": {},
   "outputs": [],
   "source": []
  },
  {
   "cell_type": "code",
   "execution_count": null,
   "metadata": {},
   "outputs": [],
   "source": []
  }
 ],
 "metadata": {
  "kernelspec": {
   "display_name": "Python 3",
   "language": "python",
   "name": "python3"
  },
  "language_info": {
   "codemirror_mode": {
    "name": "ipython",
    "version": 3
   },
   "file_extension": ".py",
   "mimetype": "text/x-python",
   "name": "python",
   "nbconvert_exporter": "python",
   "pygments_lexer": "ipython3",
   "version": "3.8.2"
  }
 },
 "nbformat": 4,
 "nbformat_minor": 2
}
